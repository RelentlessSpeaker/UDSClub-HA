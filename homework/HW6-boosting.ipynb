{
 "cells": [
  {
   "cell_type": "code",
   "execution_count": 1,
   "metadata": {
    "collapsed": true
   },
   "outputs": [],
   "source": [
    "import numpy as np \n",
    "import pandas as pd\n",
    "import pandas_profiling"
   ]
  },
  {
   "cell_type": "code",
   "execution_count": 2,
   "metadata": {
    "collapsed": true
   },
   "outputs": [],
   "source": [
    "from sklearn.model_selection import KFold\n",
    "from sklearn.model_selection import cross_val_score\n",
    "from sklearn.model_selection import train_test_split\n",
    "from sklearn.model_selection import GridSearchCV\n",
    "from sklearn.model_selection import cross_val_predict\n",
    "from sklearn.model_selection import StratifiedKFold, RandomizedSearchCV\n",
    "\n",
    "from sklearn.linear_model import LogisticRegression\n",
    "from sklearn.linear_model import Ridge\n",
    "from sklearn.tree import DecisionTreeClassifier\n",
    "from sklearn.ensemble import RandomForestClassifier\n",
    "from sklearn.ensemble import BaggingClassifier\n",
    "from sklearn.ensemble import ExtraTreesClassifier"
   ]
  },
  {
   "cell_type": "code",
   "execution_count": 6,
   "metadata": {},
   "outputs": [],
   "source": [
    "train = pd.read_csv(\"../data/train.csv\", delimiter='\\t')\n",
    "test = pd.read_csv(\"../data/test.csv\", delimiter='\\t')"
   ]
  },
  {
   "cell_type": "code",
   "execution_count": 7,
   "metadata": {
    "scrolled": true
   },
   "outputs": [
    {
     "data": {
      "text/plain": [
       "(30500, 347)"
      ]
     },
     "execution_count": 7,
     "metadata": {},
     "output_type": "execute_result"
    }
   ],
   "source": [
    "train.shape"
   ]
  },
  {
   "cell_type": "code",
   "execution_count": 8,
   "metadata": {},
   "outputs": [
    {
     "data": {
      "text/plain": [
       "(4166, 347)"
      ]
     },
     "execution_count": 8,
     "metadata": {},
     "output_type": "execute_result"
    }
   ],
   "source": [
    "test.shape"
   ]
  },
  {
   "cell_type": "code",
   "execution_count": 183,
   "metadata": {
    "collapsed": true
   },
   "outputs": [],
   "source": [
    "prof_report = pandas_profiling.ProfileReport(train)"
   ]
  },
  {
   "cell_type": "code",
   "execution_count": 7,
   "metadata": {
    "collapsed": true
   },
   "outputs": [],
   "source": [
    "prof_report.to_file(\"pp_report.html\")"
   ]
  },
  {
   "cell_type": "code",
   "execution_count": null,
   "metadata": {
    "collapsed": true
   },
   "outputs": [],
   "source": [
    "rejected_features = prof_report.get_rejected_variables()"
   ]
  },
  {
   "cell_type": "code",
   "execution_count": 9,
   "metadata": {
    "collapsed": true
   },
   "outputs": [],
   "source": [
    "rejected_features = ['117',\n",
    " '119',\n",
    " '122',\n",
    " '146',\n",
    " '148',\n",
    " '153',\n",
    " '158',\n",
    " '165',\n",
    " '179',\n",
    " '180',\n",
    " '206',\n",
    " '323',\n",
    " '324',\n",
    " '325',\n",
    " '326',\n",
    " '327',\n",
    " '333',\n",
    " '334',\n",
    " '335',\n",
    " '341',\n",
    " '9']\n"
   ]
  },
  {
   "cell_type": "code",
   "execution_count": 10,
   "metadata": {},
   "outputs": [
    {
     "data": {
      "text/plain": [
       "0.13659016393442622"
      ]
     },
     "execution_count": 10,
     "metadata": {},
     "output_type": "execute_result"
    }
   ],
   "source": [
    "test.shape[0] /train.shape[0] "
   ]
  },
  {
   "cell_type": "markdown",
   "metadata": {},
   "source": [
    "# Validation"
   ]
  },
  {
   "cell_type": "code",
   "execution_count": 11,
   "metadata": {
    "collapsed": true
   },
   "outputs": [],
   "source": [
    "from sklearn.model_selection import StratifiedKFold\n",
    "from sklearn.model_selection import cross_val_score\n",
    "from sklearn.model_selection import train_test_split\n",
    "from sklearn.metrics import roc_auc_score"
   ]
  },
  {
   "cell_type": "code",
   "execution_count": 12,
   "metadata": {
    "collapsed": true
   },
   "outputs": [],
   "source": [
    "import lightgbm as lgbm"
   ]
  },
  {
   "cell_type": "code",
   "execution_count": 11,
   "metadata": {
    "collapsed": true
   },
   "outputs": [],
   "source": [
    "# Validation\n",
    "\n",
    "new_train, valid = train_test_split(train, test_size=0.14, random_state=42)"
   ]
  },
  {
   "cell_type": "code",
   "execution_count": 16,
   "metadata": {
    "collapsed": true
   },
   "outputs": [],
   "source": [
    "X = train.drop(\"0\", axis=1)\n",
    "y = train[\"0\"]"
   ]
  },
  {
   "cell_type": "code",
   "execution_count": 14,
   "metadata": {
    "collapsed": true
   },
   "outputs": [
    {
     "ename": "NameError",
     "evalue": "name 'cv_idx' is not defined",
     "output_type": "error",
     "traceback": [
      "\u001b[0;31m---------------------------------------------------------------------------\u001b[0m",
      "\u001b[0;31mNameError\u001b[0m                                 Traceback (most recent call last)",
      "\u001b[0;32m<ipython-input-14-567c8ed5259c>\u001b[0m in \u001b[0;36m<module>\u001b[0;34m()\u001b[0m\n\u001b[0;32m----> 1\u001b[0;31m \u001b[0mX_train\u001b[0m \u001b[0;34m=\u001b[0m \u001b[0mtrain\u001b[0m\u001b[0;34m.\u001b[0m\u001b[0mdrop\u001b[0m\u001b[0;34m(\u001b[0m\u001b[0mcv_idx\u001b[0m\u001b[0;34m)\u001b[0m\u001b[0;34m\u001b[0m\u001b[0m\n\u001b[0m\u001b[1;32m      2\u001b[0m \u001b[0mX_train\u001b[0m\u001b[0;34m.\u001b[0m\u001b[0mdrop\u001b[0m\u001b[0;34m(\u001b[0m\u001b[0;34m'0'\u001b[0m\u001b[0;34m,\u001b[0m \u001b[0maxis\u001b[0m\u001b[0;34m=\u001b[0m\u001b[0;36m1\u001b[0m\u001b[0;34m,\u001b[0m \u001b[0minplace\u001b[0m\u001b[0;34m=\u001b[0m\u001b[0;32mTrue\u001b[0m\u001b[0;34m)\u001b[0m\u001b[0;34m\u001b[0m\u001b[0m\n\u001b[1;32m      3\u001b[0m \u001b[0;34m\u001b[0m\u001b[0m\n\u001b[1;32m      4\u001b[0m \u001b[0my_train\u001b[0m \u001b[0;34m=\u001b[0m \u001b[0mtrain\u001b[0m\u001b[0;34m.\u001b[0m\u001b[0mdrop\u001b[0m\u001b[0;34m(\u001b[0m\u001b[0mcv_idx\u001b[0m\u001b[0;34m)\u001b[0m\u001b[0;34m[\u001b[0m\u001b[0;34m'0'\u001b[0m\u001b[0;34m]\u001b[0m\u001b[0;34m\u001b[0m\u001b[0m\n",
      "\u001b[0;31mNameError\u001b[0m: name 'cv_idx' is not defined"
     ]
    }
   ],
   "source": [
    "X_train = train.drop(cv_idx)\n",
    "X_train.drop('0', axis=1, inplace=True)\n",
    "\n",
    "y_train = train.drop(cv_idx)['0']"
   ]
  },
  {
   "cell_type": "code",
   "execution_count": 17,
   "metadata": {
    "collapsed": true
   },
   "outputs": [],
   "source": [
    "# SKF\n",
    "skf = StratifiedKFold(n_splits=8, shuffle=True, random_state=42)"
   ]
  },
  {
   "cell_type": "code",
   "execution_count": 26,
   "metadata": {
    "collapsed": true
   },
   "outputs": [],
   "source": [
    "cv_iter = skf.split(X, y)"
   ]
  },
  {
   "cell_type": "code",
   "execution_count": 12,
   "metadata": {
    "collapsed": true
   },
   "outputs": [],
   "source": [
    "train = train.drop(rejected_features, axis=1)"
   ]
  },
  {
   "cell_type": "code",
   "execution_count": 13,
   "metadata": {
    "collapsed": true
   },
   "outputs": [],
   "source": [
    "cv_idx = valid.index"
   ]
  },
  {
   "cell_type": "code",
   "execution_count": 15,
   "metadata": {
    "collapsed": true
   },
   "outputs": [],
   "source": [
    "features = train.drop('0', axis=1).columns"
   ]
  },
  {
   "cell_type": "code",
   "execution_count": 19,
   "metadata": {
    "collapsed": true
   },
   "outputs": [],
   "source": [
    "lgbm_model = lgbm.LGBMClassifier(\n",
    "    n_estimators=300, \n",
    "    colsample_bytree=0.6, \n",
    "    subsample=0.7,\n",
    "    learning_rate=0.01, \n",
    "    subsample_for_bin=300000,\n",
    "    num_leaves=21\n",
    ")"
   ]
  },
  {
   "cell_type": "code",
   "execution_count": 27,
   "metadata": {},
   "outputs": [
    {
     "name": "stdout",
     "output_type": "stream",
     "text": [
      "[CV]  ................................................................\n",
      "[CV] ........................ , score=0.732106815711846, total=   4.5s\n",
      "[CV]  ................................................................\n"
     ]
    },
    {
     "name": "stderr",
     "output_type": "stream",
     "text": [
      "[Parallel(n_jobs=1)]: Done   1 out of   1 | elapsed:    4.5s remaining:    0.0s\n"
     ]
    },
    {
     "name": "stdout",
     "output_type": "stream",
     "text": [
      "[CV] ....................... , score=0.7379053694843167, total=   4.2s\n",
      "[CV]  ................................................................\n"
     ]
    },
    {
     "name": "stderr",
     "output_type": "stream",
     "text": [
      "[Parallel(n_jobs=1)]: Done   2 out of   2 | elapsed:    8.7s remaining:    0.0s\n"
     ]
    },
    {
     "name": "stdout",
     "output_type": "stream",
     "text": [
      "[CV] ....................... , score=0.7260974909787206, total=   4.1s\n",
      "[CV]  ................................................................\n"
     ]
    },
    {
     "name": "stderr",
     "output_type": "stream",
     "text": [
      "[Parallel(n_jobs=1)]: Done   3 out of   3 | elapsed:   12.7s remaining:    0.0s\n"
     ]
    },
    {
     "name": "stdout",
     "output_type": "stream",
     "text": [
      "[CV] ....................... , score=0.7320430669056659, total=   4.1s\n",
      "[CV]  ................................................................\n",
      "[CV] ....................... , score=0.7425757340522129, total=   4.8s\n",
      "[CV]  ................................................................\n",
      "[CV] ....................... , score=0.7277568037679801, total=   4.4s\n",
      "[CV]  ................................................................\n",
      "[CV] ........................ , score=0.737351824974163, total=   5.6s\n",
      "[CV]  ................................................................\n",
      "[CV] ....................... , score=0.7376951131111675, total=   5.1s\n"
     ]
    },
    {
     "name": "stderr",
     "output_type": "stream",
     "text": [
      "[Parallel(n_jobs=1)]: Done   8 out of   8 | elapsed:   36.7s finished\n"
     ]
    },
    {
     "data": {
      "text/plain": [
       "array([0.73210682, 0.73790537, 0.72609749, 0.73204307, 0.74257573,\n",
       "       0.7277568 , 0.73735182, 0.73769511])"
      ]
     },
     "execution_count": 27,
     "metadata": {},
     "output_type": "execute_result"
    }
   ],
   "source": [
    "cross_val_score(lgbm_model, X, y, cv=cv_iter, verbose=4, scoring=\"roc_auc\")"
   ]
  },
  {
   "cell_type": "code",
   "execution_count": 17,
   "metadata": {
    "scrolled": false
   },
   "outputs": [
    {
     "data": {
      "text/plain": [
       "LGBMClassifier(boosting_type='gbdt', class_weight=None, colsample_bytree=0.6,\n",
       "        learning_rate=0.01, max_depth=-1, min_child_samples=20,\n",
       "        min_child_weight=0.001, min_split_gain=0.0, n_estimators=300,\n",
       "        n_jobs=-1, num_leaves=21, objective=None, random_state=None,\n",
       "        reg_alpha=0.0, reg_lambda=0.0, silent=True, subsample=0.7,\n",
       "        subsample_for_bin=300000, subsample_freq=1)"
      ]
     },
     "execution_count": 17,
     "metadata": {},
     "output_type": "execute_result"
    }
   ],
   "source": [
    "lgbm_model.fit(X_train, y_train)"
   ]
  },
  {
   "cell_type": "code",
   "execution_count": 18,
   "metadata": {
    "collapsed": true
   },
   "outputs": [],
   "source": [
    "cv_pred = lgbm_model.predict_proba(train.loc[cv_idx, features])[:, 1]"
   ]
  },
  {
   "cell_type": "code",
   "execution_count": 19,
   "metadata": {},
   "outputs": [
    {
     "name": "stdout",
     "output_type": "stream",
     "text": [
      "CV roc_auc: 0.743810\n"
     ]
    }
   ],
   "source": [
    "print(\"CV roc_auc: {:.6f}\".format(roc_auc_score(train.loc[cv_idx, '0'], cv_pred)))"
   ]
  },
  {
   "cell_type": "code",
   "execution_count": 20,
   "metadata": {
    "collapsed": true
   },
   "outputs": [],
   "source": [
    "train_pred = lgbm_model.predict_proba(train.drop(cv_idx, 0)[features])[:, 1]"
   ]
  },
  {
   "cell_type": "code",
   "execution_count": 21,
   "metadata": {},
   "outputs": [
    {
     "name": "stdout",
     "output_type": "stream",
     "text": [
      "Train roc_auc: 0.772196\n"
     ]
    }
   ],
   "source": [
    "print(\"Train roc_auc: {:.6f}\".format(roc_auc_score(train.drop(cv_idx, 0)['0'], train_pred)))"
   ]
  },
  {
   "cell_type": "code",
   "execution_count": 448,
   "metadata": {
    "collapsed": true
   },
   "outputs": [],
   "source": [
    "params = \"n_estimators=300, colsample_bytree=0.6, subsample=0.7, learning_rate=0.005, subsample_for_bin=300000, num_leaves=21\""
   ]
  },
  {
   "cell_type": "code",
   "execution_count": 449,
   "metadata": {
    "collapsed": true
   },
   "outputs": [],
   "source": [
    "model = []"
   ]
  },
  {
   "cell_type": "code",
   "execution_count": 425,
   "metadata": {
    "collapsed": true
   },
   "outputs": [],
   "source": [
    "cv_scores = []\n",
    "train_scores = []\n",
    "lb_scores = []"
   ]
  },
  {
   "cell_type": "code",
   "execution_count": 450,
   "metadata": {
    "collapsed": true
   },
   "outputs": [],
   "source": [
    "model.append(params)"
   ]
  },
  {
   "cell_type": "code",
   "execution_count": 436,
   "metadata": {
    "collapsed": true
   },
   "outputs": [],
   "source": [
    "cv_scores.append(roc_auc_score(train.loc[cv_idx, '0'], cv_pred))\n",
    "train_scores.append(roc_auc_score(train.drop(cv_idx, 0)['0'], train_pred))"
   ]
  },
  {
   "cell_type": "code",
   "execution_count": 440,
   "metadata": {
    "collapsed": true
   },
   "outputs": [],
   "source": [
    "lb_scores.append(0.73535022)"
   ]
  },
  {
   "cell_type": "code",
   "execution_count": 452,
   "metadata": {
    "collapsed": true
   },
   "outputs": [],
   "source": [
    "results = pd.DataFrame()"
   ]
  },
  {
   "cell_type": "code",
   "execution_count": 453,
   "metadata": {
    "collapsed": true
   },
   "outputs": [],
   "source": [
    "results['cv_score'] = cv_scores"
   ]
  },
  {
   "cell_type": "code",
   "execution_count": 454,
   "metadata": {
    "collapsed": true
   },
   "outputs": [],
   "source": [
    "results['train_score'] = train_scores"
   ]
  },
  {
   "cell_type": "code",
   "execution_count": 455,
   "metadata": {
    "collapsed": true
   },
   "outputs": [],
   "source": [
    "results['public_lb'] = lb_scores"
   ]
  },
  {
   "cell_type": "code",
   "execution_count": 458,
   "metadata": {
    "collapsed": true
   },
   "outputs": [
    {
     "ename": "ValueError",
     "evalue": "Length of values does not match length of index",
     "output_type": "error",
     "traceback": [
      "\u001b[0;31m---------------------------------------------------------------------------\u001b[0m",
      "\u001b[0;31mValueError\u001b[0m                                Traceback (most recent call last)",
      "\u001b[0;32m<ipython-input-458-0af6726bb822>\u001b[0m in \u001b[0;36m<module>\u001b[0;34m()\u001b[0m\n\u001b[0;32m----> 1\u001b[0;31m \u001b[0mresults\u001b[0m\u001b[0;34m[\u001b[0m\u001b[0;34m'model'\u001b[0m\u001b[0;34m]\u001b[0m \u001b[0;34m=\u001b[0m \u001b[0mmodel\u001b[0m\u001b[0;34m\u001b[0m\u001b[0m\n\u001b[0m",
      "\u001b[0;32m/usr/local/lib/python3.6/site-packages/pandas/core/frame.py\u001b[0m in \u001b[0;36m__setitem__\u001b[0;34m(self, key, value)\u001b[0m\n\u001b[1;32m   2517\u001b[0m         \u001b[0;32melse\u001b[0m\u001b[0;34m:\u001b[0m\u001b[0;34m\u001b[0m\u001b[0m\n\u001b[1;32m   2518\u001b[0m             \u001b[0;31m# set column\u001b[0m\u001b[0;34m\u001b[0m\u001b[0;34m\u001b[0m\u001b[0m\n\u001b[0;32m-> 2519\u001b[0;31m             \u001b[0mself\u001b[0m\u001b[0;34m.\u001b[0m\u001b[0m_set_item\u001b[0m\u001b[0;34m(\u001b[0m\u001b[0mkey\u001b[0m\u001b[0;34m,\u001b[0m \u001b[0mvalue\u001b[0m\u001b[0;34m)\u001b[0m\u001b[0;34m\u001b[0m\u001b[0m\n\u001b[0m\u001b[1;32m   2520\u001b[0m \u001b[0;34m\u001b[0m\u001b[0m\n\u001b[1;32m   2521\u001b[0m     \u001b[0;32mdef\u001b[0m \u001b[0m_setitem_slice\u001b[0m\u001b[0;34m(\u001b[0m\u001b[0mself\u001b[0m\u001b[0;34m,\u001b[0m \u001b[0mkey\u001b[0m\u001b[0;34m,\u001b[0m \u001b[0mvalue\u001b[0m\u001b[0;34m)\u001b[0m\u001b[0;34m:\u001b[0m\u001b[0;34m\u001b[0m\u001b[0m\n",
      "\u001b[0;32m/usr/local/lib/python3.6/site-packages/pandas/core/frame.py\u001b[0m in \u001b[0;36m_set_item\u001b[0;34m(self, key, value)\u001b[0m\n\u001b[1;32m   2583\u001b[0m \u001b[0;34m\u001b[0m\u001b[0m\n\u001b[1;32m   2584\u001b[0m         \u001b[0mself\u001b[0m\u001b[0;34m.\u001b[0m\u001b[0m_ensure_valid_index\u001b[0m\u001b[0;34m(\u001b[0m\u001b[0mvalue\u001b[0m\u001b[0;34m)\u001b[0m\u001b[0;34m\u001b[0m\u001b[0m\n\u001b[0;32m-> 2585\u001b[0;31m         \u001b[0mvalue\u001b[0m \u001b[0;34m=\u001b[0m \u001b[0mself\u001b[0m\u001b[0;34m.\u001b[0m\u001b[0m_sanitize_column\u001b[0m\u001b[0;34m(\u001b[0m\u001b[0mkey\u001b[0m\u001b[0;34m,\u001b[0m \u001b[0mvalue\u001b[0m\u001b[0;34m)\u001b[0m\u001b[0;34m\u001b[0m\u001b[0m\n\u001b[0m\u001b[1;32m   2586\u001b[0m         \u001b[0mNDFrame\u001b[0m\u001b[0;34m.\u001b[0m\u001b[0m_set_item\u001b[0m\u001b[0;34m(\u001b[0m\u001b[0mself\u001b[0m\u001b[0;34m,\u001b[0m \u001b[0mkey\u001b[0m\u001b[0;34m,\u001b[0m \u001b[0mvalue\u001b[0m\u001b[0;34m)\u001b[0m\u001b[0;34m\u001b[0m\u001b[0m\n\u001b[1;32m   2587\u001b[0m \u001b[0;34m\u001b[0m\u001b[0m\n",
      "\u001b[0;32m/usr/local/lib/python3.6/site-packages/pandas/core/frame.py\u001b[0m in \u001b[0;36m_sanitize_column\u001b[0;34m(self, key, value, broadcast)\u001b[0m\n\u001b[1;32m   2758\u001b[0m \u001b[0;34m\u001b[0m\u001b[0m\n\u001b[1;32m   2759\u001b[0m             \u001b[0;31m# turn me into an ndarray\u001b[0m\u001b[0;34m\u001b[0m\u001b[0;34m\u001b[0m\u001b[0m\n\u001b[0;32m-> 2760\u001b[0;31m             \u001b[0mvalue\u001b[0m \u001b[0;34m=\u001b[0m \u001b[0m_sanitize_index\u001b[0m\u001b[0;34m(\u001b[0m\u001b[0mvalue\u001b[0m\u001b[0;34m,\u001b[0m \u001b[0mself\u001b[0m\u001b[0;34m.\u001b[0m\u001b[0mindex\u001b[0m\u001b[0;34m,\u001b[0m \u001b[0mcopy\u001b[0m\u001b[0;34m=\u001b[0m\u001b[0;32mFalse\u001b[0m\u001b[0;34m)\u001b[0m\u001b[0;34m\u001b[0m\u001b[0m\n\u001b[0m\u001b[1;32m   2761\u001b[0m             \u001b[0;32mif\u001b[0m \u001b[0;32mnot\u001b[0m \u001b[0misinstance\u001b[0m\u001b[0;34m(\u001b[0m\u001b[0mvalue\u001b[0m\u001b[0;34m,\u001b[0m \u001b[0;34m(\u001b[0m\u001b[0mnp\u001b[0m\u001b[0;34m.\u001b[0m\u001b[0mndarray\u001b[0m\u001b[0;34m,\u001b[0m \u001b[0mIndex\u001b[0m\u001b[0;34m)\u001b[0m\u001b[0;34m)\u001b[0m\u001b[0;34m:\u001b[0m\u001b[0;34m\u001b[0m\u001b[0m\n\u001b[1;32m   2762\u001b[0m                 \u001b[0;32mif\u001b[0m \u001b[0misinstance\u001b[0m\u001b[0;34m(\u001b[0m\u001b[0mvalue\u001b[0m\u001b[0;34m,\u001b[0m \u001b[0mlist\u001b[0m\u001b[0;34m)\u001b[0m \u001b[0;32mand\u001b[0m \u001b[0mlen\u001b[0m\u001b[0;34m(\u001b[0m\u001b[0mvalue\u001b[0m\u001b[0;34m)\u001b[0m \u001b[0;34m>\u001b[0m \u001b[0;36m0\u001b[0m\u001b[0;34m:\u001b[0m\u001b[0;34m\u001b[0m\u001b[0m\n",
      "\u001b[0;32m/usr/local/lib/python3.6/site-packages/pandas/core/series.py\u001b[0m in \u001b[0;36m_sanitize_index\u001b[0;34m(data, index, copy)\u001b[0m\n\u001b[1;32m   3119\u001b[0m \u001b[0;34m\u001b[0m\u001b[0m\n\u001b[1;32m   3120\u001b[0m     \u001b[0;32mif\u001b[0m \u001b[0mlen\u001b[0m\u001b[0;34m(\u001b[0m\u001b[0mdata\u001b[0m\u001b[0;34m)\u001b[0m \u001b[0;34m!=\u001b[0m \u001b[0mlen\u001b[0m\u001b[0;34m(\u001b[0m\u001b[0mindex\u001b[0m\u001b[0;34m)\u001b[0m\u001b[0;34m:\u001b[0m\u001b[0;34m\u001b[0m\u001b[0m\n\u001b[0;32m-> 3121\u001b[0;31m         \u001b[0;32mraise\u001b[0m \u001b[0mValueError\u001b[0m\u001b[0;34m(\u001b[0m\u001b[0;34m'Length of values does not match length of '\u001b[0m \u001b[0;34m'index'\u001b[0m\u001b[0;34m)\u001b[0m\u001b[0;34m\u001b[0m\u001b[0m\n\u001b[0m\u001b[1;32m   3122\u001b[0m \u001b[0;34m\u001b[0m\u001b[0m\n\u001b[1;32m   3123\u001b[0m     \u001b[0;32mif\u001b[0m \u001b[0misinstance\u001b[0m\u001b[0;34m(\u001b[0m\u001b[0mdata\u001b[0m\u001b[0;34m,\u001b[0m \u001b[0mPeriodIndex\u001b[0m\u001b[0;34m)\u001b[0m\u001b[0;34m:\u001b[0m\u001b[0;34m\u001b[0m\u001b[0m\n",
      "\u001b[0;31mValueError\u001b[0m: Length of values does not match length of index"
     ]
    }
   ],
   "source": [
    "results['model'] = model"
   ]
  },
  {
   "cell_type": "code",
   "execution_count": 22,
   "metadata": {
    "collapsed": true
   },
   "outputs": [],
   "source": [
    "pred = (lgbm_model.predict_proba(test[features])[:, 1])"
   ]
  },
  {
   "cell_type": "code",
   "execution_count": 447,
   "metadata": {},
   "outputs": [
    {
     "data": {
      "text/html": [
       "<div>\n",
       "<style scoped>\n",
       "    .dataframe tbody tr th:only-of-type {\n",
       "        vertical-align: middle;\n",
       "    }\n",
       "\n",
       "    .dataframe tbody tr th {\n",
       "        vertical-align: top;\n",
       "    }\n",
       "\n",
       "    .dataframe thead th {\n",
       "        text-align: right;\n",
       "    }\n",
       "</style>\n",
       "<table border=\"1\" class=\"dataframe\">\n",
       "  <thead>\n",
       "    <tr style=\"text-align: right;\">\n",
       "      <th></th>\n",
       "      <th>cv_score</th>\n",
       "      <th>train_score</th>\n",
       "    </tr>\n",
       "  </thead>\n",
       "  <tbody>\n",
       "    <tr>\n",
       "      <th>0</th>\n",
       "      <td>0.741477</td>\n",
       "      <td>0.763475</td>\n",
       "    </tr>\n",
       "    <tr>\n",
       "      <th>1</th>\n",
       "      <td>0.736375</td>\n",
       "      <td>0.744921</td>\n",
       "    </tr>\n",
       "  </tbody>\n",
       "</table>\n",
       "</div>"
      ],
      "text/plain": [
       "   cv_score  train_score\n",
       "0  0.741477     0.763475\n",
       "1  0.736375     0.744921"
      ]
     },
     "execution_count": 447,
     "metadata": {},
     "output_type": "execute_result"
    }
   ],
   "source": [
    "results"
   ]
  },
  {
   "cell_type": "markdown",
   "metadata": {},
   "source": [
    "# XGBoost"
   ]
  },
  {
   "cell_type": "markdown",
   "metadata": {},
   "source": [
    "max_depth=5, n_estimators=200, learning_rate=0.065"
   ]
  },
  {
   "cell_type": "code",
   "execution_count": 36,
   "metadata": {
    "collapsed": true
   },
   "outputs": [],
   "source": [
    "import xgboost as xgb"
   ]
  },
  {
   "cell_type": "code",
   "execution_count": 37,
   "metadata": {
    "collapsed": true
   },
   "outputs": [],
   "source": [
    "xgb_model = xgb.XGBClassifier(\n",
    "    n_estimators=200,\n",
    "    learning_rate=0.035,\n",
    "    max_depth=5,\n",
    "    random_state=42,\n",
    "\n",
    "    #colsample_bytree = 0.7,\n",
    "    #colsample_bylevel = 0.7,\n",
    "    \n",
    "    #max_leaves = 8,\n",
    "    \n",
    "    #tree_method = 'hist',\n",
    "    #grow_policy = 'lossguide'\n",
    ")"
   ]
  },
  {
   "cell_type": "code",
   "execution_count": 38,
   "metadata": {},
   "outputs": [
    {
     "data": {
      "text/plain": [
       "XGBClassifier(base_score=0.5, booster='gbtree', colsample_bylevel=1,\n",
       "       colsample_bytree=1, gamma=0, learning_rate=0.035, max_delta_step=0,\n",
       "       max_depth=5, min_child_weight=1, missing=None, n_estimators=200,\n",
       "       n_jobs=1, nthread=None, objective='binary:logistic',\n",
       "       random_state=42, reg_alpha=0, reg_lambda=1, scale_pos_weight=1,\n",
       "       seed=None, silent=True, subsample=1)"
      ]
     },
     "execution_count": 38,
     "metadata": {},
     "output_type": "execute_result"
    }
   ],
   "source": [
    "xgb_model.fit(X_train, y_train)"
   ]
  },
  {
   "cell_type": "code",
   "execution_count": 194,
   "metadata": {},
   "outputs": [
    {
     "name": "stdout",
     "output_type": "stream",
     "text": [
      "XGB CV roc_auc: 0.737446\n",
      "XGB Train roc_auc: 0.865238\n"
     ]
    }
   ],
   "source": [
    "cv_pred = xgb_model.predict_proba(train.loc[cv_idx, features])[:, 1]\n",
    "\n",
    "print(\"XGB CV roc_auc: {:.6f}\".format(roc_auc_score(train.loc[cv_idx, '0'], cv_pred)))\n",
    "\n",
    "train_pred =  xgb_model.predict_proba(train.drop(cv_idx, 0)[features])[:, 1]\n",
    "\n",
    "print(\"XGB Train roc_auc: {:.6f}\".format(roc_auc_score(train.drop(cv_idx, 0)['0'], train_pred)))"
   ]
  },
  {
   "cell_type": "code",
   "execution_count": 39,
   "metadata": {
    "collapsed": true
   },
   "outputs": [],
   "source": [
    "pred = (xgb_model.predict_proba(test[features])[:, 1])"
   ]
  },
  {
   "cell_type": "markdown",
   "metadata": {},
   "source": [
    "Submission"
   ]
  },
  {
   "cell_type": "code",
   "execution_count": 32,
   "metadata": {
    "collapsed": true
   },
   "outputs": [],
   "source": [
    "submission = pd.DataFrame(test.iloc[:, 0])"
   ]
  },
  {
   "cell_type": "code",
   "execution_count": 33,
   "metadata": {
    "collapsed": true
   },
   "outputs": [],
   "source": [
    "submission.rename(index=str, columns={'Unnamed: 0': '_ID_'}, inplace=True)"
   ]
  },
  {
   "cell_type": "code",
   "execution_count": 34,
   "metadata": {
    "collapsed": true
   },
   "outputs": [],
   "source": [
    "submission['_VAL_'] = pred"
   ]
  },
  {
   "cell_type": "code",
   "execution_count": 169,
   "metadata": {
    "collapsed": true
   },
   "outputs": [
    {
     "data": {
      "text/html": [
       "<div>\n",
       "<style scoped>\n",
       "    .dataframe tbody tr th:only-of-type {\n",
       "        vertical-align: middle;\n",
       "    }\n",
       "\n",
       "    .dataframe tbody tr th {\n",
       "        vertical-align: top;\n",
       "    }\n",
       "\n",
       "    .dataframe thead th {\n",
       "        text-align: right;\n",
       "    }\n",
       "</style>\n",
       "<table border=\"1\" class=\"dataframe\">\n",
       "  <thead>\n",
       "    <tr style=\"text-align: right;\">\n",
       "      <th></th>\n",
       "      <th>_ID_</th>\n",
       "      <th>_VAL_</th>\n",
       "    </tr>\n",
       "  </thead>\n",
       "  <tbody>\n",
       "    <tr>\n",
       "      <th>0</th>\n",
       "      <td>0</td>\n",
       "      <td>0.187420</td>\n",
       "    </tr>\n",
       "    <tr>\n",
       "      <th>1</th>\n",
       "      <td>1</td>\n",
       "      <td>0.427704</td>\n",
       "    </tr>\n",
       "    <tr>\n",
       "      <th>2</th>\n",
       "      <td>2</td>\n",
       "      <td>0.257056</td>\n",
       "    </tr>\n",
       "    <tr>\n",
       "      <th>3</th>\n",
       "      <td>3</td>\n",
       "      <td>0.299153</td>\n",
       "    </tr>\n",
       "    <tr>\n",
       "      <th>4</th>\n",
       "      <td>4</td>\n",
       "      <td>0.495362</td>\n",
       "    </tr>\n",
       "    <tr>\n",
       "      <th>5</th>\n",
       "      <td>5</td>\n",
       "      <td>0.252427</td>\n",
       "    </tr>\n",
       "    <tr>\n",
       "      <th>6</th>\n",
       "      <td>6</td>\n",
       "      <td>0.103507</td>\n",
       "    </tr>\n",
       "    <tr>\n",
       "      <th>7</th>\n",
       "      <td>7</td>\n",
       "      <td>0.157629</td>\n",
       "    </tr>\n",
       "    <tr>\n",
       "      <th>8</th>\n",
       "      <td>8</td>\n",
       "      <td>0.111361</td>\n",
       "    </tr>\n",
       "    <tr>\n",
       "      <th>9</th>\n",
       "      <td>9</td>\n",
       "      <td>0.316885</td>\n",
       "    </tr>\n",
       "    <tr>\n",
       "      <th>10</th>\n",
       "      <td>10</td>\n",
       "      <td>0.137821</td>\n",
       "    </tr>\n",
       "    <tr>\n",
       "      <th>11</th>\n",
       "      <td>11</td>\n",
       "      <td>0.506114</td>\n",
       "    </tr>\n",
       "    <tr>\n",
       "      <th>12</th>\n",
       "      <td>12</td>\n",
       "      <td>0.085234</td>\n",
       "    </tr>\n",
       "    <tr>\n",
       "      <th>13</th>\n",
       "      <td>13</td>\n",
       "      <td>0.159103</td>\n",
       "    </tr>\n",
       "    <tr>\n",
       "      <th>14</th>\n",
       "      <td>14</td>\n",
       "      <td>0.611606</td>\n",
       "    </tr>\n",
       "    <tr>\n",
       "      <th>15</th>\n",
       "      <td>15</td>\n",
       "      <td>0.168158</td>\n",
       "    </tr>\n",
       "    <tr>\n",
       "      <th>16</th>\n",
       "      <td>16</td>\n",
       "      <td>0.083939</td>\n",
       "    </tr>\n",
       "    <tr>\n",
       "      <th>17</th>\n",
       "      <td>17</td>\n",
       "      <td>0.192371</td>\n",
       "    </tr>\n",
       "    <tr>\n",
       "      <th>18</th>\n",
       "      <td>18</td>\n",
       "      <td>0.307998</td>\n",
       "    </tr>\n",
       "    <tr>\n",
       "      <th>19</th>\n",
       "      <td>19</td>\n",
       "      <td>0.131389</td>\n",
       "    </tr>\n",
       "    <tr>\n",
       "      <th>20</th>\n",
       "      <td>20</td>\n",
       "      <td>0.088060</td>\n",
       "    </tr>\n",
       "    <tr>\n",
       "      <th>21</th>\n",
       "      <td>21</td>\n",
       "      <td>0.246551</td>\n",
       "    </tr>\n",
       "    <tr>\n",
       "      <th>22</th>\n",
       "      <td>22</td>\n",
       "      <td>0.153735</td>\n",
       "    </tr>\n",
       "    <tr>\n",
       "      <th>23</th>\n",
       "      <td>23</td>\n",
       "      <td>0.063793</td>\n",
       "    </tr>\n",
       "    <tr>\n",
       "      <th>24</th>\n",
       "      <td>24</td>\n",
       "      <td>0.532573</td>\n",
       "    </tr>\n",
       "    <tr>\n",
       "      <th>25</th>\n",
       "      <td>25</td>\n",
       "      <td>0.229653</td>\n",
       "    </tr>\n",
       "    <tr>\n",
       "      <th>26</th>\n",
       "      <td>26</td>\n",
       "      <td>0.429571</td>\n",
       "    </tr>\n",
       "    <tr>\n",
       "      <th>27</th>\n",
       "      <td>27</td>\n",
       "      <td>0.113767</td>\n",
       "    </tr>\n",
       "    <tr>\n",
       "      <th>28</th>\n",
       "      <td>28</td>\n",
       "      <td>0.086209</td>\n",
       "    </tr>\n",
       "    <tr>\n",
       "      <th>29</th>\n",
       "      <td>29</td>\n",
       "      <td>0.196731</td>\n",
       "    </tr>\n",
       "    <tr>\n",
       "      <th>...</th>\n",
       "      <td>...</td>\n",
       "      <td>...</td>\n",
       "    </tr>\n",
       "    <tr>\n",
       "      <th>4136</th>\n",
       "      <td>4136</td>\n",
       "      <td>0.116535</td>\n",
       "    </tr>\n",
       "    <tr>\n",
       "      <th>4137</th>\n",
       "      <td>4137</td>\n",
       "      <td>0.081259</td>\n",
       "    </tr>\n",
       "    <tr>\n",
       "      <th>4138</th>\n",
       "      <td>4138</td>\n",
       "      <td>0.097336</td>\n",
       "    </tr>\n",
       "    <tr>\n",
       "      <th>4139</th>\n",
       "      <td>4139</td>\n",
       "      <td>0.154492</td>\n",
       "    </tr>\n",
       "    <tr>\n",
       "      <th>4140</th>\n",
       "      <td>4140</td>\n",
       "      <td>0.115867</td>\n",
       "    </tr>\n",
       "    <tr>\n",
       "      <th>4141</th>\n",
       "      <td>4141</td>\n",
       "      <td>0.197459</td>\n",
       "    </tr>\n",
       "    <tr>\n",
       "      <th>4142</th>\n",
       "      <td>4142</td>\n",
       "      <td>0.084786</td>\n",
       "    </tr>\n",
       "    <tr>\n",
       "      <th>4143</th>\n",
       "      <td>4143</td>\n",
       "      <td>0.127277</td>\n",
       "    </tr>\n",
       "    <tr>\n",
       "      <th>4144</th>\n",
       "      <td>4144</td>\n",
       "      <td>0.071310</td>\n",
       "    </tr>\n",
       "    <tr>\n",
       "      <th>4145</th>\n",
       "      <td>4145</td>\n",
       "      <td>0.162733</td>\n",
       "    </tr>\n",
       "    <tr>\n",
       "      <th>4146</th>\n",
       "      <td>4146</td>\n",
       "      <td>0.071446</td>\n",
       "    </tr>\n",
       "    <tr>\n",
       "      <th>4147</th>\n",
       "      <td>4147</td>\n",
       "      <td>0.115399</td>\n",
       "    </tr>\n",
       "    <tr>\n",
       "      <th>4148</th>\n",
       "      <td>4148</td>\n",
       "      <td>0.103736</td>\n",
       "    </tr>\n",
       "    <tr>\n",
       "      <th>4149</th>\n",
       "      <td>4149</td>\n",
       "      <td>0.193566</td>\n",
       "    </tr>\n",
       "    <tr>\n",
       "      <th>4150</th>\n",
       "      <td>4150</td>\n",
       "      <td>0.133105</td>\n",
       "    </tr>\n",
       "    <tr>\n",
       "      <th>4151</th>\n",
       "      <td>4151</td>\n",
       "      <td>0.110117</td>\n",
       "    </tr>\n",
       "    <tr>\n",
       "      <th>4152</th>\n",
       "      <td>4152</td>\n",
       "      <td>0.132483</td>\n",
       "    </tr>\n",
       "    <tr>\n",
       "      <th>4153</th>\n",
       "      <td>4153</td>\n",
       "      <td>0.311178</td>\n",
       "    </tr>\n",
       "    <tr>\n",
       "      <th>4154</th>\n",
       "      <td>4154</td>\n",
       "      <td>0.310119</td>\n",
       "    </tr>\n",
       "    <tr>\n",
       "      <th>4155</th>\n",
       "      <td>4155</td>\n",
       "      <td>0.187861</td>\n",
       "    </tr>\n",
       "    <tr>\n",
       "      <th>4156</th>\n",
       "      <td>4156</td>\n",
       "      <td>0.565656</td>\n",
       "    </tr>\n",
       "    <tr>\n",
       "      <th>4157</th>\n",
       "      <td>4157</td>\n",
       "      <td>0.178383</td>\n",
       "    </tr>\n",
       "    <tr>\n",
       "      <th>4158</th>\n",
       "      <td>4158</td>\n",
       "      <td>0.177103</td>\n",
       "    </tr>\n",
       "    <tr>\n",
       "      <th>4159</th>\n",
       "      <td>4159</td>\n",
       "      <td>0.330975</td>\n",
       "    </tr>\n",
       "    <tr>\n",
       "      <th>4160</th>\n",
       "      <td>4160</td>\n",
       "      <td>0.054834</td>\n",
       "    </tr>\n",
       "    <tr>\n",
       "      <th>4161</th>\n",
       "      <td>4161</td>\n",
       "      <td>0.080130</td>\n",
       "    </tr>\n",
       "    <tr>\n",
       "      <th>4162</th>\n",
       "      <td>4162</td>\n",
       "      <td>0.113072</td>\n",
       "    </tr>\n",
       "    <tr>\n",
       "      <th>4163</th>\n",
       "      <td>4163</td>\n",
       "      <td>0.082224</td>\n",
       "    </tr>\n",
       "    <tr>\n",
       "      <th>4164</th>\n",
       "      <td>4164</td>\n",
       "      <td>0.109845</td>\n",
       "    </tr>\n",
       "    <tr>\n",
       "      <th>4165</th>\n",
       "      <td>4165</td>\n",
       "      <td>0.120663</td>\n",
       "    </tr>\n",
       "  </tbody>\n",
       "</table>\n",
       "<p>4166 rows × 2 columns</p>\n",
       "</div>"
      ],
      "text/plain": [
       "      _ID_     _VAL_\n",
       "0        0  0.187420\n",
       "1        1  0.427704\n",
       "2        2  0.257056\n",
       "3        3  0.299153\n",
       "4        4  0.495362\n",
       "5        5  0.252427\n",
       "6        6  0.103507\n",
       "7        7  0.157629\n",
       "8        8  0.111361\n",
       "9        9  0.316885\n",
       "10      10  0.137821\n",
       "11      11  0.506114\n",
       "12      12  0.085234\n",
       "13      13  0.159103\n",
       "14      14  0.611606\n",
       "15      15  0.168158\n",
       "16      16  0.083939\n",
       "17      17  0.192371\n",
       "18      18  0.307998\n",
       "19      19  0.131389\n",
       "20      20  0.088060\n",
       "21      21  0.246551\n",
       "22      22  0.153735\n",
       "23      23  0.063793\n",
       "24      24  0.532573\n",
       "25      25  0.229653\n",
       "26      26  0.429571\n",
       "27      27  0.113767\n",
       "28      28  0.086209\n",
       "29      29  0.196731\n",
       "...    ...       ...\n",
       "4136  4136  0.116535\n",
       "4137  4137  0.081259\n",
       "4138  4138  0.097336\n",
       "4139  4139  0.154492\n",
       "4140  4140  0.115867\n",
       "4141  4141  0.197459\n",
       "4142  4142  0.084786\n",
       "4143  4143  0.127277\n",
       "4144  4144  0.071310\n",
       "4145  4145  0.162733\n",
       "4146  4146  0.071446\n",
       "4147  4147  0.115399\n",
       "4148  4148  0.103736\n",
       "4149  4149  0.193566\n",
       "4150  4150  0.133105\n",
       "4151  4151  0.110117\n",
       "4152  4152  0.132483\n",
       "4153  4153  0.311178\n",
       "4154  4154  0.310119\n",
       "4155  4155  0.187861\n",
       "4156  4156  0.565656\n",
       "4157  4157  0.178383\n",
       "4158  4158  0.177103\n",
       "4159  4159  0.330975\n",
       "4160  4160  0.054834\n",
       "4161  4161  0.080130\n",
       "4162  4162  0.113072\n",
       "4163  4163  0.082224\n",
       "4164  4164  0.109845\n",
       "4165  4165  0.120663\n",
       "\n",
       "[4166 rows x 2 columns]"
      ]
     },
     "execution_count": 169,
     "metadata": {},
     "output_type": "execute_result"
    }
   ],
   "source": [
    "submission"
   ]
  },
  {
   "cell_type": "code",
   "execution_count": 35,
   "metadata": {
    "collapsed": true
   },
   "outputs": [],
   "source": [
    "submission.to_csv(\"cat_best.csv\", index=False)"
   ]
  },
  {
   "cell_type": "code",
   "execution_count": null,
   "metadata": {
    "collapsed": true
   },
   "outputs": [],
   "source": [
    "# lgbm: cv - 0.736375, pl - 0.73535022\n",
    "# xgb: cv - 0.739591, train - 0.744921, lb - 0.76068500\n",
    "# 0.741669 - 0.822175\n",
    "\"\"\"\n",
    "XGBClassifier(base_score=0.5, booster='gbtree', colsample_bylevel=0.75,\n",
    "       colsample_bytree=0.7, gamma=0, learning_rate=0.02, max_delta_step=0,\n",
    "       max_depth=3, min_child_weight=1, missing=None, n_estimators=1000,\n",
    "       n_jobs=4, nthread=None, objective='binary:logistic', random_state=0,\n",
    "       reg_alpha=0, reg_lambda=1, scale_pos_weight=1, seed=None,\n",
    "       silent=True, subsample=1)\n",
    "\"\"\""
   ]
  },
  {
   "cell_type": "markdown",
   "metadata": {},
   "source": [
    "xgb_model = xgb.XGBClassifier(\n",
    "    n_estimators=500,\n",
    "    learning_rate=0.01,\n",
    "    n_jobs=4,\n",
    "    max_depth = 3,\n",
    "    \n",
    "    colsample_bytree = 0.7,\n",
    "    colsample_bylevel = 0.7\n",
    ")\n",
    "XGB CV roc_auc: 0.736033\n",
    "XGB Train roc_auc: 0.743417\n",
    "LB: 0.72961263\n",
    "\n",
    "xgb_model = xgb.XGBClassifier(\n",
    "    n_estimators=363,\n",
    "    learning_rate=0.02,\n",
    "    n_jobs=4,\n",
    "    max_depth = 3,\n",
    "\n",
    "    colsample_bytree = 0.7,\n",
    "    colsample_bylevel = 0.7,\n",
    "    \n",
    "    max_leaves = 32,\n",
    "    \n",
    "    tree_method = 'hist',\n",
    "    grow_policy = 'lossguide'\n",
    ")\n",
    "\n",
    "XGB CV roc_auc: 0.739078\n",
    "XGB Train roc_auc: 0.755951\n",
    "LB: 0.73779452\n",
    "\n",
    "xgb_model = xgb.XGBClassifier(\n",
    "    n_estimators=1000,\n",
    "    learning_rate=0.02,\n",
    "    n_jobs=4,\n",
    "    max_depth = 3,\n",
    "\n",
    "    colsample_bytree = 0.75,\n",
    "    colsample_bylevel = 0.7,\n",
    "    \n",
    "    max_leaves = 32,\n",
    "    \n",
    "    tree_method = 'hist',\n",
    "    grow_policy = 'lossguide'\n",
    ")\n",
    "\n",
    "XGB CV roc_auc: 0.740545\n",
    "XGB Train roc_auc: 0.797018\n",
    "LB: 0.74823467\n",
    "\n",
    "xgb_model = xgb.XGBClassifier(\n",
    "    n_estimators=350,\n",
    "    learning_rate=0.03,\n",
    "    n_jobs=4,\n",
    "    max_depth=3,\n",
    "\n",
    "    colsample_bytree = 0.75,\n",
    "    colsample_bylevel = 0.7,\n",
    "    \n",
    "    max_leaves = 18,\n",
    "    \n",
    "    tree_method = 'hist',\n",
    "    grow_policy = 'lossguide'\n",
    ")\n",
    "\n",
    "XGB CV roc_auc: 0.743138\n",
    "XGB Train roc_auc: 0.768881\n",
    "LB: 0.74738783"
   ]
  },
  {
   "cell_type": "markdown",
   "metadata": {},
   "source": [
    "xgb_model = xgb.XGBClassifier(\n",
    "    n_estimators=373,\n",
    "    learning_rate=0.03,\n",
    "    n_jobs=4,\n",
    "    max_depth=5,\n",
    "    random_state=42,\n",
    "\n",
    "    colsample_bytree = 0.75,\n",
    "    colsample_bylevel = 0.7,\n",
    "    \n",
    "    max_leaves = 8,\n",
    "    \n",
    "    tree_method = 'hist',\n",
    "    grow_policy = 'lossguide'\n",
    ")\n",
    "\n",
    "XGB CV roc_auc: 0.745024\n",
    "XGB Train roc_auc: 0.778765"
   ]
  },
  {
   "cell_type": "code",
   "execution_count": null,
   "metadata": {
    "collapsed": true
   },
   "outputs": [],
   "source": []
  },
  {
   "cell_type": "markdown",
   "metadata": {},
   "source": [
    "# CatBoost"
   ]
  },
  {
   "cell_type": "code",
   "execution_count": 27,
   "metadata": {
    "collapsed": true
   },
   "outputs": [],
   "source": [
    "import catboost as ctb"
   ]
  },
  {
   "cell_type": "code",
   "execution_count": 41,
   "metadata": {
    "collapsed": true
   },
   "outputs": [],
   "source": [
    "ctb_model = ctb.CatBoostClassifier(\n",
    "    loss_function = 'Logloss',\n",
    "    eval_metric='AUC',\n",
    "\n",
    "    iterations = 350,\n",
    "    learning_rate = 0.023,\n",
    "    random_seed = 42,\n",
    "    use_best_model = False,\n",
    "    \n",
    "    od_wait = 50,\n",
    "    od_type ='Iter',\n",
    "    \n",
    "    rsm = 0.7,\n",
    "    l2_leaf_reg=2\n",
    ")"
   ]
  },
  {
   "cell_type": "code",
   "execution_count": 42,
   "metadata": {},
   "outputs": [
    {
     "name": "stdout",
     "output_type": "stream",
     "text": [
      "0:\tlearn: 0.6040846\ttotal: 85.5ms\tremaining: 29.8s\n",
      "1:\tlearn: 0.6196742\ttotal: 214ms\tremaining: 37.2s\n",
      "2:\tlearn: 0.6385400\ttotal: 340ms\tremaining: 39.4s\n",
      "3:\tlearn: 0.6571854\ttotal: 469ms\tremaining: 40.6s\n",
      "4:\tlearn: 0.6648100\ttotal: 604ms\tremaining: 41.7s\n",
      "5:\tlearn: 0.6646004\ttotal: 709ms\tremaining: 40.6s\n",
      "6:\tlearn: 0.6686814\ttotal: 826ms\tremaining: 40.5s\n",
      "7:\tlearn: 0.6706929\ttotal: 965ms\tremaining: 41.3s\n",
      "8:\tlearn: 0.6712633\ttotal: 1.1s\tremaining: 41.6s\n",
      "9:\tlearn: 0.6743800\ttotal: 1.2s\tremaining: 40.9s\n",
      "10:\tlearn: 0.6764866\ttotal: 1.32s\tremaining: 40.6s\n",
      "11:\tlearn: 0.6752751\ttotal: 1.49s\tremaining: 42.1s\n",
      "12:\tlearn: 0.6796813\ttotal: 1.75s\tremaining: 45.3s\n",
      "13:\tlearn: 0.6793699\ttotal: 1.94s\tremaining: 46.5s\n",
      "14:\tlearn: 0.6802737\ttotal: 2.1s\tremaining: 47s\n",
      "15:\tlearn: 0.6805010\ttotal: 2.22s\tremaining: 46.4s\n",
      "16:\tlearn: 0.6836760\ttotal: 2.35s\tremaining: 46.1s\n",
      "17:\tlearn: 0.6840082\ttotal: 2.46s\tremaining: 45.4s\n",
      "18:\tlearn: 0.6834383\ttotal: 2.57s\tremaining: 44.7s\n",
      "19:\tlearn: 0.6836489\ttotal: 2.74s\tremaining: 45.2s\n",
      "20:\tlearn: 0.6839034\ttotal: 2.88s\tremaining: 45.2s\n",
      "21:\tlearn: 0.6860083\ttotal: 3s\tremaining: 44.7s\n",
      "22:\tlearn: 0.6867148\ttotal: 3.09s\tremaining: 43.9s\n",
      "23:\tlearn: 0.6867780\ttotal: 3.22s\tremaining: 43.7s\n",
      "24:\tlearn: 0.6860551\ttotal: 3.34s\tremaining: 43.4s\n",
      "25:\tlearn: 0.6877321\ttotal: 3.46s\tremaining: 43.1s\n",
      "26:\tlearn: 0.6871199\ttotal: 3.58s\tremaining: 42.8s\n",
      "27:\tlearn: 0.6889448\ttotal: 3.69s\tremaining: 42.4s\n",
      "28:\tlearn: 0.6890544\ttotal: 3.81s\tremaining: 42.1s\n",
      "29:\tlearn: 0.6901588\ttotal: 3.95s\tremaining: 42.1s\n",
      "30:\tlearn: 0.6897900\ttotal: 4.08s\tremaining: 41.9s\n",
      "31:\tlearn: 0.6891706\ttotal: 4.18s\tremaining: 41.5s\n",
      "32:\tlearn: 0.6892539\ttotal: 4.28s\tremaining: 41.1s\n",
      "33:\tlearn: 0.6894738\ttotal: 4.41s\tremaining: 41s\n",
      "34:\tlearn: 0.6913176\ttotal: 4.55s\tremaining: 41s\n",
      "35:\tlearn: 0.6921686\ttotal: 4.66s\tremaining: 40.7s\n",
      "36:\tlearn: 0.6927090\ttotal: 4.76s\tremaining: 40.2s\n",
      "37:\tlearn: 0.6936532\ttotal: 4.87s\tremaining: 40s\n",
      "38:\tlearn: 0.6944313\ttotal: 5s\tremaining: 39.9s\n",
      "39:\tlearn: 0.6944379\ttotal: 5.12s\tremaining: 39.6s\n",
      "40:\tlearn: 0.6957277\ttotal: 5.24s\tremaining: 39.5s\n",
      "41:\tlearn: 0.6966086\ttotal: 5.36s\tremaining: 39.3s\n",
      "42:\tlearn: 0.6973865\ttotal: 5.46s\tremaining: 39s\n",
      "43:\tlearn: 0.6976344\ttotal: 5.6s\tremaining: 38.9s\n",
      "44:\tlearn: 0.6972456\ttotal: 5.73s\tremaining: 38.8s\n",
      "45:\tlearn: 0.6973187\ttotal: 5.84s\tremaining: 38.6s\n",
      "46:\tlearn: 0.6973839\ttotal: 6s\tremaining: 38.7s\n",
      "47:\tlearn: 0.6987308\ttotal: 6.18s\tremaining: 38.9s\n",
      "48:\tlearn: 0.6993124\ttotal: 6.36s\tremaining: 39.1s\n",
      "49:\tlearn: 0.6995527\ttotal: 6.5s\tremaining: 39s\n",
      "50:\tlearn: 0.7008119\ttotal: 6.64s\tremaining: 38.9s\n",
      "51:\tlearn: 0.7013637\ttotal: 6.74s\tremaining: 38.6s\n",
      "52:\tlearn: 0.7019992\ttotal: 6.83s\tremaining: 38.3s\n",
      "53:\tlearn: 0.7021294\ttotal: 6.97s\tremaining: 38.2s\n",
      "54:\tlearn: 0.7021355\ttotal: 7.08s\tremaining: 38s\n",
      "55:\tlearn: 0.7024550\ttotal: 7.18s\tremaining: 37.7s\n",
      "56:\tlearn: 0.7028537\ttotal: 7.32s\tremaining: 37.6s\n",
      "57:\tlearn: 0.7032580\ttotal: 7.46s\tremaining: 37.6s\n",
      "58:\tlearn: 0.7041387\ttotal: 7.6s\tremaining: 37.5s\n",
      "59:\tlearn: 0.7040611\ttotal: 7.74s\tremaining: 37.4s\n",
      "60:\tlearn: 0.7041886\ttotal: 7.85s\tremaining: 37.2s\n",
      "61:\tlearn: 0.7052220\ttotal: 7.99s\tremaining: 37.1s\n",
      "62:\tlearn: 0.7054726\ttotal: 8.11s\tremaining: 36.9s\n",
      "63:\tlearn: 0.7060880\ttotal: 8.23s\tremaining: 36.8s\n",
      "64:\tlearn: 0.7061357\ttotal: 8.35s\tremaining: 36.6s\n",
      "65:\tlearn: 0.7061840\ttotal: 8.48s\tremaining: 36.5s\n",
      "66:\tlearn: 0.7065007\ttotal: 8.6s\tremaining: 36.3s\n",
      "67:\tlearn: 0.7067087\ttotal: 8.73s\tremaining: 36.2s\n",
      "68:\tlearn: 0.7070136\ttotal: 8.84s\tremaining: 36s\n",
      "69:\tlearn: 0.7077208\ttotal: 9.02s\tremaining: 36.1s\n",
      "70:\tlearn: 0.7079881\ttotal: 9.13s\tremaining: 35.9s\n",
      "71:\tlearn: 0.7089451\ttotal: 9.29s\tremaining: 35.9s\n",
      "72:\tlearn: 0.7090692\ttotal: 9.41s\tremaining: 35.7s\n",
      "73:\tlearn: 0.7095152\ttotal: 9.57s\tremaining: 35.7s\n",
      "74:\tlearn: 0.7101009\ttotal: 9.72s\tremaining: 35.7s\n",
      "75:\tlearn: 0.7104447\ttotal: 9.98s\tremaining: 36s\n",
      "76:\tlearn: 0.7113312\ttotal: 10.1s\tremaining: 35.9s\n",
      "77:\tlearn: 0.7116783\ttotal: 10.3s\tremaining: 35.9s\n",
      "78:\tlearn: 0.7120803\ttotal: 10.4s\tremaining: 35.8s\n",
      "79:\tlearn: 0.7121929\ttotal: 10.6s\tremaining: 35.8s\n",
      "80:\tlearn: 0.7127230\ttotal: 10.8s\tremaining: 35.9s\n",
      "81:\tlearn: 0.7133734\ttotal: 11.1s\tremaining: 36.2s\n",
      "82:\tlearn: 0.7139285\ttotal: 11.3s\tremaining: 36.4s\n",
      "83:\tlearn: 0.7141035\ttotal: 11.5s\tremaining: 36.3s\n",
      "84:\tlearn: 0.7148641\ttotal: 11.6s\tremaining: 36.2s\n",
      "85:\tlearn: 0.7153639\ttotal: 11.7s\tremaining: 36s\n",
      "86:\tlearn: 0.7158662\ttotal: 11.9s\tremaining: 35.8s\n",
      "87:\tlearn: 0.7165614\ttotal: 12s\tremaining: 35.8s\n",
      "88:\tlearn: 0.7170570\ttotal: 12.2s\tremaining: 35.7s\n",
      "89:\tlearn: 0.7171970\ttotal: 12.3s\tremaining: 35.5s\n",
      "90:\tlearn: 0.7174273\ttotal: 12.4s\tremaining: 35.4s\n",
      "91:\tlearn: 0.7177263\ttotal: 12.5s\tremaining: 35.2s\n",
      "92:\tlearn: 0.7182566\ttotal: 12.7s\tremaining: 35s\n",
      "93:\tlearn: 0.7185554\ttotal: 12.8s\tremaining: 34.8s\n",
      "94:\tlearn: 0.7190918\ttotal: 13s\tremaining: 34.8s\n",
      "95:\tlearn: 0.7194844\ttotal: 13.1s\tremaining: 34.6s\n",
      "96:\tlearn: 0.7201553\ttotal: 13.2s\tremaining: 34.5s\n",
      "97:\tlearn: 0.7202449\ttotal: 13.4s\tremaining: 34.4s\n",
      "98:\tlearn: 0.7206901\ttotal: 13.5s\tremaining: 34.2s\n",
      "99:\tlearn: 0.7211915\ttotal: 13.6s\tremaining: 34s\n",
      "100:\tlearn: 0.7217298\ttotal: 13.7s\tremaining: 33.9s\n",
      "101:\tlearn: 0.7219409\ttotal: 13.9s\tremaining: 33.7s\n",
      "102:\tlearn: 0.7224168\ttotal: 14s\tremaining: 33.6s\n",
      "103:\tlearn: 0.7226069\ttotal: 14.1s\tremaining: 33.5s\n",
      "104:\tlearn: 0.7228336\ttotal: 14.3s\tremaining: 33.4s\n",
      "105:\tlearn: 0.7232558\ttotal: 14.4s\tremaining: 33.2s\n",
      "106:\tlearn: 0.7239872\ttotal: 14.5s\tremaining: 33s\n",
      "107:\tlearn: 0.7241835\ttotal: 14.7s\tremaining: 32.9s\n",
      "108:\tlearn: 0.7244867\ttotal: 14.8s\tremaining: 32.8s\n",
      "109:\tlearn: 0.7248788\ttotal: 14.9s\tremaining: 32.6s\n",
      "110:\tlearn: 0.7248447\ttotal: 15.1s\tremaining: 32.5s\n",
      "111:\tlearn: 0.7250126\ttotal: 15.2s\tremaining: 32.3s\n",
      "112:\tlearn: 0.7253476\ttotal: 15.3s\tremaining: 32.1s\n",
      "113:\tlearn: 0.7257911\ttotal: 15.4s\tremaining: 31.9s\n",
      "114:\tlearn: 0.7260373\ttotal: 15.5s\tremaining: 31.8s\n",
      "115:\tlearn: 0.7262101\ttotal: 15.6s\tremaining: 31.6s\n",
      "116:\tlearn: 0.7266342\ttotal: 15.8s\tremaining: 31.5s\n",
      "117:\tlearn: 0.7270046\ttotal: 16.1s\tremaining: 31.6s\n",
      "118:\tlearn: 0.7275662\ttotal: 16.3s\tremaining: 31.5s\n",
      "119:\tlearn: 0.7276903\ttotal: 16.5s\tremaining: 31.6s\n",
      "120:\tlearn: 0.7279815\ttotal: 16.6s\tremaining: 31.5s\n",
      "121:\tlearn: 0.7281308\ttotal: 16.8s\tremaining: 31.3s\n",
      "122:\tlearn: 0.7284303\ttotal: 16.9s\tremaining: 31.2s\n",
      "123:\tlearn: 0.7286610\ttotal: 17.1s\tremaining: 31.2s\n",
      "124:\tlearn: 0.7288608\ttotal: 17.2s\tremaining: 31s\n",
      "125:\tlearn: 0.7293225\ttotal: 17.4s\tremaining: 30.9s\n",
      "126:\tlearn: 0.7297506\ttotal: 17.5s\tremaining: 30.8s\n",
      "127:\tlearn: 0.7298955\ttotal: 17.7s\tremaining: 30.7s\n",
      "128:\tlearn: 0.7300816\ttotal: 17.8s\tremaining: 30.6s\n",
      "129:\tlearn: 0.7303794\ttotal: 18s\tremaining: 30.4s\n",
      "130:\tlearn: 0.7307298\ttotal: 18.1s\tremaining: 30.2s\n",
      "131:\tlearn: 0.7311358\ttotal: 18.2s\tremaining: 30.1s\n",
      "132:\tlearn: 0.7314059\ttotal: 18.4s\tremaining: 30s\n",
      "133:\tlearn: 0.7316153\ttotal: 18.6s\tremaining: 29.9s\n",
      "134:\tlearn: 0.7318522\ttotal: 18.7s\tremaining: 29.8s\n",
      "135:\tlearn: 0.7319214\ttotal: 18.8s\tremaining: 29.6s\n",
      "136:\tlearn: 0.7322278\ttotal: 19s\tremaining: 29.5s\n",
      "137:\tlearn: 0.7323664\ttotal: 19.1s\tremaining: 29.3s\n",
      "138:\tlearn: 0.7326408\ttotal: 19.2s\tremaining: 29.2s\n",
      "139:\tlearn: 0.7329088\ttotal: 19.4s\tremaining: 29s\n",
      "140:\tlearn: 0.7332538\ttotal: 19.5s\tremaining: 28.9s\n",
      "141:\tlearn: 0.7334443\ttotal: 19.6s\tremaining: 28.7s\n",
      "142:\tlearn: 0.7336857\ttotal: 19.8s\tremaining: 28.6s\n",
      "143:\tlearn: 0.7339313\ttotal: 19.9s\tremaining: 28.5s\n",
      "144:\tlearn: 0.7340288\ttotal: 20s\tremaining: 28.3s\n",
      "145:\tlearn: 0.7342326\ttotal: 20.2s\tremaining: 28.3s\n",
      "146:\tlearn: 0.7346298\ttotal: 20.4s\tremaining: 28.1s\n",
      "147:\tlearn: 0.7347259\ttotal: 20.5s\tremaining: 28s\n",
      "148:\tlearn: 0.7349750\ttotal: 20.6s\tremaining: 27.8s\n",
      "149:\tlearn: 0.7351029\ttotal: 20.8s\tremaining: 27.7s\n",
      "150:\tlearn: 0.7353819\ttotal: 21s\tremaining: 27.6s\n",
      "151:\tlearn: 0.7355841\ttotal: 21.1s\tremaining: 27.5s\n",
      "152:\tlearn: 0.7358586\ttotal: 21.3s\tremaining: 27.4s\n",
      "153:\tlearn: 0.7361096\ttotal: 21.4s\tremaining: 27.2s\n",
      "154:\tlearn: 0.7361297\ttotal: 21.5s\tremaining: 27.1s\n",
      "155:\tlearn: 0.7363909\ttotal: 21.6s\tremaining: 26.9s\n",
      "156:\tlearn: 0.7366257\ttotal: 21.8s\tremaining: 26.8s\n",
      "157:\tlearn: 0.7367648\ttotal: 22s\tremaining: 26.7s\n",
      "158:\tlearn: 0.7368246\ttotal: 22.1s\tremaining: 26.5s\n",
      "159:\tlearn: 0.7368932\ttotal: 22.2s\tremaining: 26.4s\n",
      "160:\tlearn: 0.7370503\ttotal: 22.4s\tremaining: 26.3s\n"
     ]
    },
    {
     "name": "stdout",
     "output_type": "stream",
     "text": [
      "161:\tlearn: 0.7372615\ttotal: 22.5s\tremaining: 26.1s\n",
      "162:\tlearn: 0.7374194\ttotal: 22.6s\tremaining: 25.9s\n",
      "163:\tlearn: 0.7376148\ttotal: 22.8s\tremaining: 25.8s\n",
      "164:\tlearn: 0.7377812\ttotal: 23s\tremaining: 25.7s\n",
      "165:\tlearn: 0.7380251\ttotal: 23.2s\tremaining: 25.7s\n",
      "166:\tlearn: 0.7381936\ttotal: 23.4s\tremaining: 25.7s\n",
      "167:\tlearn: 0.7384534\ttotal: 23.6s\tremaining: 25.5s\n",
      "168:\tlearn: 0.7386444\ttotal: 23.7s\tremaining: 25.4s\n",
      "169:\tlearn: 0.7388212\ttotal: 23.8s\tremaining: 25.2s\n",
      "170:\tlearn: 0.7389059\ttotal: 24s\tremaining: 25.1s\n",
      "171:\tlearn: 0.7390595\ttotal: 24.1s\tremaining: 25s\n",
      "172:\tlearn: 0.7392021\ttotal: 24.3s\tremaining: 24.9s\n",
      "173:\tlearn: 0.7393174\ttotal: 24.5s\tremaining: 24.7s\n",
      "174:\tlearn: 0.7396203\ttotal: 24.6s\tremaining: 24.6s\n",
      "175:\tlearn: 0.7398571\ttotal: 24.7s\tremaining: 24.4s\n",
      "176:\tlearn: 0.7398768\ttotal: 24.9s\tremaining: 24.3s\n",
      "177:\tlearn: 0.7400470\ttotal: 25s\tremaining: 24.2s\n",
      "178:\tlearn: 0.7402729\ttotal: 25.2s\tremaining: 24s\n",
      "179:\tlearn: 0.7404252\ttotal: 25.3s\tremaining: 23.9s\n",
      "180:\tlearn: 0.7405140\ttotal: 25.4s\tremaining: 23.7s\n",
      "181:\tlearn: 0.7407984\ttotal: 25.6s\tremaining: 23.7s\n",
      "182:\tlearn: 0.7409300\ttotal: 25.8s\tremaining: 23.5s\n",
      "183:\tlearn: 0.7410215\ttotal: 25.9s\tremaining: 23.4s\n",
      "184:\tlearn: 0.7411463\ttotal: 26.1s\tremaining: 23.3s\n",
      "185:\tlearn: 0.7412829\ttotal: 26.2s\tremaining: 23.1s\n",
      "186:\tlearn: 0.7415014\ttotal: 26.4s\tremaining: 23s\n",
      "187:\tlearn: 0.7415941\ttotal: 26.5s\tremaining: 22.9s\n",
      "188:\tlearn: 0.7417987\ttotal: 26.7s\tremaining: 22.7s\n",
      "189:\tlearn: 0.7420078\ttotal: 26.8s\tremaining: 22.6s\n",
      "190:\tlearn: 0.7422762\ttotal: 26.9s\tremaining: 22.4s\n",
      "191:\tlearn: 0.7423408\ttotal: 27.1s\tremaining: 22.3s\n",
      "192:\tlearn: 0.7424681\ttotal: 27.2s\tremaining: 22.1s\n",
      "193:\tlearn: 0.7426344\ttotal: 27.3s\tremaining: 22s\n",
      "194:\tlearn: 0.7428029\ttotal: 27.4s\tremaining: 21.8s\n",
      "195:\tlearn: 0.7428848\ttotal: 27.6s\tremaining: 21.7s\n",
      "196:\tlearn: 0.7430628\ttotal: 27.7s\tremaining: 21.5s\n",
      "197:\tlearn: 0.7432964\ttotal: 27.8s\tremaining: 21.3s\n",
      "198:\tlearn: 0.7434479\ttotal: 28s\tremaining: 21.2s\n",
      "199:\tlearn: 0.7434852\ttotal: 28.1s\tremaining: 21.1s\n",
      "200:\tlearn: 0.7435712\ttotal: 28.2s\tremaining: 20.9s\n",
      "201:\tlearn: 0.7438385\ttotal: 28.4s\tremaining: 20.8s\n",
      "202:\tlearn: 0.7439360\ttotal: 28.5s\tremaining: 20.6s\n",
      "203:\tlearn: 0.7440209\ttotal: 28.6s\tremaining: 20.5s\n",
      "204:\tlearn: 0.7441600\ttotal: 28.8s\tremaining: 20.3s\n",
      "205:\tlearn: 0.7442624\ttotal: 28.9s\tremaining: 20.2s\n",
      "206:\tlearn: 0.7445181\ttotal: 29.1s\tremaining: 20.1s\n",
      "207:\tlearn: 0.7447969\ttotal: 29.2s\tremaining: 19.9s\n",
      "208:\tlearn: 0.7450882\ttotal: 29.3s\tremaining: 19.8s\n",
      "209:\tlearn: 0.7451979\ttotal: 29.5s\tremaining: 19.6s\n",
      "210:\tlearn: 0.7453942\ttotal: 29.6s\tremaining: 19.5s\n",
      "211:\tlearn: 0.7455767\ttotal: 29.7s\tremaining: 19.4s\n",
      "212:\tlearn: 0.7456698\ttotal: 29.9s\tremaining: 19.2s\n",
      "213:\tlearn: 0.7459099\ttotal: 30s\tremaining: 19.1s\n",
      "214:\tlearn: 0.7459933\ttotal: 30.2s\tremaining: 18.9s\n",
      "215:\tlearn: 0.7461021\ttotal: 30.3s\tremaining: 18.8s\n",
      "216:\tlearn: 0.7463839\ttotal: 30.4s\tremaining: 18.6s\n",
      "217:\tlearn: 0.7467528\ttotal: 30.6s\tremaining: 18.6s\n",
      "218:\tlearn: 0.7468152\ttotal: 30.8s\tremaining: 18.4s\n",
      "219:\tlearn: 0.7469780\ttotal: 30.9s\tremaining: 18.3s\n",
      "220:\tlearn: 0.7469922\ttotal: 31.2s\tremaining: 18.2s\n",
      "221:\tlearn: 0.7471457\ttotal: 31.4s\tremaining: 18.1s\n",
      "222:\tlearn: 0.7472286\ttotal: 31.7s\tremaining: 18s\n",
      "223:\tlearn: 0.7473149\ttotal: 32s\tremaining: 18s\n",
      "224:\tlearn: 0.7475879\ttotal: 32.1s\tremaining: 17.8s\n",
      "225:\tlearn: 0.7476839\ttotal: 32.2s\tremaining: 17.7s\n",
      "226:\tlearn: 0.7478607\ttotal: 32.3s\tremaining: 17.5s\n",
      "227:\tlearn: 0.7479080\ttotal: 32.5s\tremaining: 17.4s\n",
      "228:\tlearn: 0.7481580\ttotal: 32.6s\tremaining: 17.3s\n",
      "229:\tlearn: 0.7483214\ttotal: 32.8s\tremaining: 17.1s\n",
      "230:\tlearn: 0.7484133\ttotal: 33s\tremaining: 17s\n",
      "231:\tlearn: 0.7486599\ttotal: 33.1s\tremaining: 16.8s\n",
      "232:\tlearn: 0.7488283\ttotal: 33.2s\tremaining: 16.7s\n",
      "233:\tlearn: 0.7490056\ttotal: 33.3s\tremaining: 16.5s\n",
      "234:\tlearn: 0.7491570\ttotal: 33.5s\tremaining: 16.4s\n",
      "235:\tlearn: 0.7492576\ttotal: 33.6s\tremaining: 16.2s\n",
      "236:\tlearn: 0.7493727\ttotal: 33.7s\tremaining: 16.1s\n",
      "237:\tlearn: 0.7494629\ttotal: 33.9s\tremaining: 15.9s\n",
      "238:\tlearn: 0.7496383\ttotal: 34s\tremaining: 15.8s\n",
      "239:\tlearn: 0.7497879\ttotal: 34.1s\tremaining: 15.6s\n",
      "240:\tlearn: 0.7499358\ttotal: 34.3s\tremaining: 15.5s\n",
      "241:\tlearn: 0.7501751\ttotal: 34.4s\tremaining: 15.4s\n",
      "242:\tlearn: 0.7502694\ttotal: 34.6s\tremaining: 15.2s\n",
      "243:\tlearn: 0.7504994\ttotal: 34.7s\tremaining: 15.1s\n",
      "244:\tlearn: 0.7507597\ttotal: 34.8s\tremaining: 14.9s\n",
      "245:\tlearn: 0.7508419\ttotal: 35s\tremaining: 14.8s\n",
      "246:\tlearn: 0.7510164\ttotal: 35.1s\tremaining: 14.6s\n",
      "247:\tlearn: 0.7511202\ttotal: 35.2s\tremaining: 14.5s\n",
      "248:\tlearn: 0.7512104\ttotal: 35.4s\tremaining: 14.3s\n",
      "249:\tlearn: 0.7512694\ttotal: 35.5s\tremaining: 14.2s\n",
      "250:\tlearn: 0.7515153\ttotal: 35.6s\tremaining: 14s\n",
      "251:\tlearn: 0.7516234\ttotal: 35.8s\tremaining: 13.9s\n",
      "252:\tlearn: 0.7517991\ttotal: 35.9s\tremaining: 13.8s\n",
      "253:\tlearn: 0.7519256\ttotal: 36s\tremaining: 13.6s\n",
      "254:\tlearn: 0.7519920\ttotal: 36.2s\tremaining: 13.5s\n",
      "255:\tlearn: 0.7520451\ttotal: 36.3s\tremaining: 13.3s\n",
      "256:\tlearn: 0.7522086\ttotal: 36.4s\tremaining: 13.2s\n",
      "257:\tlearn: 0.7523696\ttotal: 36.6s\tremaining: 13s\n",
      "258:\tlearn: 0.7524476\ttotal: 36.7s\tremaining: 12.9s\n",
      "259:\tlearn: 0.7525819\ttotal: 36.9s\tremaining: 12.8s\n",
      "260:\tlearn: 0.7527538\ttotal: 37s\tremaining: 12.6s\n",
      "261:\tlearn: 0.7529598\ttotal: 37.2s\tremaining: 12.5s\n",
      "262:\tlearn: 0.7530466\ttotal: 37.3s\tremaining: 12.3s\n",
      "263:\tlearn: 0.7531394\ttotal: 37.4s\tremaining: 12.2s\n",
      "264:\tlearn: 0.7532366\ttotal: 37.6s\tremaining: 12.1s\n",
      "265:\tlearn: 0.7533811\ttotal: 37.7s\tremaining: 11.9s\n",
      "266:\tlearn: 0.7536461\ttotal: 37.9s\tremaining: 11.8s\n",
      "267:\tlearn: 0.7538010\ttotal: 38s\tremaining: 11.6s\n",
      "268:\tlearn: 0.7539350\ttotal: 38.1s\tremaining: 11.5s\n",
      "269:\tlearn: 0.7540521\ttotal: 38.3s\tremaining: 11.3s\n",
      "270:\tlearn: 0.7541429\ttotal: 38.4s\tremaining: 11.2s\n",
      "271:\tlearn: 0.7542516\ttotal: 38.6s\tremaining: 11.1s\n",
      "272:\tlearn: 0.7544490\ttotal: 38.7s\tremaining: 10.9s\n",
      "273:\tlearn: 0.7545857\ttotal: 38.8s\tremaining: 10.8s\n",
      "274:\tlearn: 0.7548334\ttotal: 38.9s\tremaining: 10.6s\n",
      "275:\tlearn: 0.7550078\ttotal: 39.1s\tremaining: 10.5s\n",
      "276:\tlearn: 0.7551503\ttotal: 39.2s\tremaining: 10.3s\n",
      "277:\tlearn: 0.7553209\ttotal: 39.3s\tremaining: 10.2s\n",
      "278:\tlearn: 0.7554454\ttotal: 39.4s\tremaining: 10s\n",
      "279:\tlearn: 0.7556294\ttotal: 39.6s\tremaining: 9.89s\n",
      "280:\tlearn: 0.7557398\ttotal: 39.7s\tremaining: 9.74s\n",
      "281:\tlearn: 0.7558666\ttotal: 39.8s\tremaining: 9.6s\n",
      "282:\tlearn: 0.7559898\ttotal: 40s\tremaining: 9.46s\n",
      "283:\tlearn: 0.7560552\ttotal: 40.1s\tremaining: 9.31s\n",
      "284:\tlearn: 0.7561739\ttotal: 40.2s\tremaining: 9.17s\n",
      "285:\tlearn: 0.7563183\ttotal: 40.3s\tremaining: 9.02s\n",
      "286:\tlearn: 0.7564768\ttotal: 40.4s\tremaining: 8.87s\n",
      "287:\tlearn: 0.7565862\ttotal: 40.6s\tremaining: 8.73s\n",
      "288:\tlearn: 0.7567619\ttotal: 40.7s\tremaining: 8.58s\n",
      "289:\tlearn: 0.7568968\ttotal: 40.8s\tremaining: 8.44s\n",
      "290:\tlearn: 0.7570157\ttotal: 40.9s\tremaining: 8.3s\n",
      "291:\tlearn: 0.7571593\ttotal: 41.1s\tremaining: 8.15s\n",
      "292:\tlearn: 0.7573537\ttotal: 41.2s\tremaining: 8.01s\n",
      "293:\tlearn: 0.7574634\ttotal: 41.3s\tremaining: 7.87s\n",
      "294:\tlearn: 0.7575806\ttotal: 41.4s\tremaining: 7.72s\n",
      "295:\tlearn: 0.7577221\ttotal: 41.6s\tremaining: 7.58s\n",
      "296:\tlearn: 0.7578456\ttotal: 41.7s\tremaining: 7.44s\n",
      "297:\tlearn: 0.7579887\ttotal: 41.8s\tremaining: 7.3s\n",
      "298:\tlearn: 0.7581322\ttotal: 41.9s\tremaining: 7.16s\n",
      "299:\tlearn: 0.7582644\ttotal: 42.1s\tremaining: 7.01s\n",
      "300:\tlearn: 0.7584714\ttotal: 42.2s\tremaining: 6.87s\n",
      "301:\tlearn: 0.7585657\ttotal: 42.3s\tremaining: 6.73s\n",
      "302:\tlearn: 0.7586625\ttotal: 42.4s\tremaining: 6.58s\n",
      "303:\tlearn: 0.7588107\ttotal: 42.6s\tremaining: 6.45s\n",
      "304:\tlearn: 0.7589159\ttotal: 42.7s\tremaining: 6.3s\n",
      "305:\tlearn: 0.7590323\ttotal: 42.9s\tremaining: 6.16s\n",
      "306:\tlearn: 0.7591414\ttotal: 43s\tremaining: 6.02s\n",
      "307:\tlearn: 0.7592805\ttotal: 43.1s\tremaining: 5.88s\n",
      "308:\tlearn: 0.7593488\ttotal: 43.2s\tremaining: 5.73s\n",
      "309:\tlearn: 0.7594062\ttotal: 43.3s\tremaining: 5.59s\n",
      "310:\tlearn: 0.7595606\ttotal: 43.5s\tremaining: 5.45s\n",
      "311:\tlearn: 0.7596767\ttotal: 43.6s\tremaining: 5.31s\n",
      "312:\tlearn: 0.7597869\ttotal: 43.7s\tremaining: 5.17s\n",
      "313:\tlearn: 0.7598928\ttotal: 43.9s\tremaining: 5.03s\n",
      "314:\tlearn: 0.7599553\ttotal: 44s\tremaining: 4.89s\n",
      "315:\tlearn: 0.7599954\ttotal: 44.2s\tremaining: 4.75s\n",
      "316:\tlearn: 0.7600323\ttotal: 44.3s\tremaining: 4.61s\n",
      "317:\tlearn: 0.7602072\ttotal: 44.4s\tremaining: 4.47s\n",
      "318:\tlearn: 0.7602957\ttotal: 44.5s\tremaining: 4.33s\n",
      "319:\tlearn: 0.7603442\ttotal: 44.7s\tremaining: 4.19s\n",
      "320:\tlearn: 0.7604426\ttotal: 44.8s\tremaining: 4.05s\n"
     ]
    },
    {
     "name": "stdout",
     "output_type": "stream",
     "text": [
      "321:\tlearn: 0.7605418\ttotal: 44.9s\tremaining: 3.91s\n",
      "322:\tlearn: 0.7606925\ttotal: 45.1s\tremaining: 3.77s\n",
      "323:\tlearn: 0.7608197\ttotal: 45.2s\tremaining: 3.63s\n",
      "324:\tlearn: 0.7609472\ttotal: 45.3s\tremaining: 3.48s\n",
      "325:\tlearn: 0.7610702\ttotal: 45.4s\tremaining: 3.35s\n",
      "326:\tlearn: 0.7611884\ttotal: 45.6s\tremaining: 3.2s\n",
      "327:\tlearn: 0.7613336\ttotal: 45.7s\tremaining: 3.06s\n",
      "328:\tlearn: 0.7614618\ttotal: 45.8s\tremaining: 2.92s\n",
      "329:\tlearn: 0.7615879\ttotal: 45.9s\tremaining: 2.78s\n",
      "330:\tlearn: 0.7616549\ttotal: 46s\tremaining: 2.64s\n",
      "331:\tlearn: 0.7617031\ttotal: 46.2s\tremaining: 2.5s\n",
      "332:\tlearn: 0.7618108\ttotal: 46.3s\tremaining: 2.36s\n",
      "333:\tlearn: 0.7619276\ttotal: 46.4s\tremaining: 2.22s\n",
      "334:\tlearn: 0.7619978\ttotal: 46.6s\tremaining: 2.08s\n",
      "335:\tlearn: 0.7621523\ttotal: 46.7s\tremaining: 1.95s\n",
      "336:\tlearn: 0.7623130\ttotal: 46.8s\tremaining: 1.81s\n",
      "337:\tlearn: 0.7623974\ttotal: 47s\tremaining: 1.67s\n",
      "338:\tlearn: 0.7624768\ttotal: 47.1s\tremaining: 1.53s\n",
      "339:\tlearn: 0.7625243\ttotal: 47.2s\tremaining: 1.39s\n",
      "340:\tlearn: 0.7626392\ttotal: 47.3s\tremaining: 1.25s\n",
      "341:\tlearn: 0.7627350\ttotal: 47.5s\tremaining: 1.11s\n",
      "342:\tlearn: 0.7628950\ttotal: 47.6s\tremaining: 971ms\n",
      "343:\tlearn: 0.7630149\ttotal: 47.7s\tremaining: 832ms\n",
      "344:\tlearn: 0.7631742\ttotal: 47.8s\tremaining: 693ms\n",
      "345:\tlearn: 0.7633145\ttotal: 48s\tremaining: 555ms\n",
      "346:\tlearn: 0.7634301\ttotal: 48.1s\tremaining: 416ms\n",
      "347:\tlearn: 0.7634860\ttotal: 48.2s\tremaining: 277ms\n",
      "348:\tlearn: 0.7635638\ttotal: 48.3s\tremaining: 138ms\n",
      "349:\tlearn: 0.7635844\ttotal: 48.5s\tremaining: 0us\n"
     ]
    }
   ],
   "source": [
    "ctb_data = ctb_model.fit(X_train, y_train)"
   ]
  },
  {
   "cell_type": "code",
   "execution_count": 30,
   "metadata": {},
   "outputs": [
    {
     "name": "stdout",
     "output_type": "stream",
     "text": [
      "Cat CV roc_auc: 0.741563\n",
      "Cat Train roc_auc: 0.763584\n"
     ]
    }
   ],
   "source": [
    "cv_pred = ctb_model.predict_proba(train.loc[cv_idx, features])[:, 1]\n",
    "\n",
    "print(\"Cat CV roc_auc: {:.6f}\".format(roc_auc_score(train.loc[cv_idx, '0'], cv_pred)))\n",
    "\n",
    "train_pred =  ctb_model.predict_proba(train.drop(cv_idx, 0)[features])[:, 1]\n",
    "\n",
    "print(\"Cat Train roc_auc: {:.6f}\".format(roc_auc_score(train.drop(cv_idx, 0)['0'], train_pred)))"
   ]
  },
  {
   "cell_type": "code",
   "execution_count": 43,
   "metadata": {
    "collapsed": true
   },
   "outputs": [],
   "source": [
    "pred = (ctb_model.predict_proba(test[features])[:, 1])"
   ]
  },
  {
   "cell_type": "markdown",
   "metadata": {},
   "source": [
    "Cat CV roc_auc: 0.743388\n",
    "Cat Train roc_auc: 0.796403\n",
    "LB: 0.74828599\n",
    "\n",
    "iterations = 300,\n",
    "learning_rate = 0.05,\n",
    "random_seed = 42,\n",
    "use_best_model = False,\n",
    "\n",
    "od_wait = 50,\n",
    "od_type ='Iter'\n"
   ]
  },
  {
   "cell_type": "markdown",
   "metadata": {},
   "source": [
    "Cat CV roc_auc: 0.742080\n",
    "Cat Train roc_auc: 0.765468\n",
    "LB; 0.73790573\n",
    "\n",
    "iterations = 350,\n",
    "    learning_rate = 0.023,\n",
    "    random_seed = 42,\n",
    "    use_best_model = False,\n",
    "    \n",
    "    od_wait = 50,\n",
    "    od_type ='Iter',\n",
    "    \n",
    "    rsm = 0.7,\n",
    "    l2_leaf_reg=2\n",
    "   "
   ]
  },
  {
   "cell_type": "code",
   "execution_count": 177,
   "metadata": {
    "collapsed": true
   },
   "outputs": [],
   "source": [
    "lgbm_pred = pred"
   ]
  },
  {
   "cell_type": "code",
   "execution_count": 40,
   "metadata": {
    "collapsed": true
   },
   "outputs": [],
   "source": [
    "xgb_pred = pred"
   ]
  },
  {
   "cell_type": "code",
   "execution_count": 44,
   "metadata": {
    "collapsed": true
   },
   "outputs": [],
   "source": [
    "ctb_pred = pred"
   ]
  },
  {
   "cell_type": "code",
   "execution_count": 178,
   "metadata": {
    "scrolled": true
   },
   "outputs": [
    {
     "name": "stdout",
     "output_type": "stream",
     "text": [
      "Simple weighted ensemble CV: 0.743884\n"
     ]
    }
   ],
   "source": [
    "ensemble_cv = xgb_cv*0.4+lgbm_cv*0.3+ctb_cv*0.3\n",
    "print(\"Simple weighted ensemble CV: {:.6f}\".format(roc_auc_score(train.loc[cv_idx, '0'], ensemble_cv)))"
   ]
  },
  {
   "cell_type": "code",
   "execution_count": 164,
   "metadata": {
    "collapsed": true
   },
   "outputs": [],
   "source": [
    "pred = xgb_pred*0.3+lgbm_pred*0.5+ctb_pred*0.3"
   ]
  },
  {
   "cell_type": "code",
   "execution_count": 49,
   "metadata": {},
   "outputs": [
    {
     "data": {
      "text/plain": [
       "4166"
      ]
     },
     "execution_count": 49,
     "metadata": {},
     "output_type": "execute_result"
    }
   ],
   "source": [
    "len(xgb_pred)"
   ]
  },
  {
   "cell_type": "code",
   "execution_count": 51,
   "metadata": {
    "collapsed": true
   },
   "outputs": [],
   "source": [
    "skf = StratifiedKFold(n_splits=7)"
   ]
  },
  {
   "cell_type": "code",
   "execution_count": 55,
   "metadata": {},
   "outputs": [
    {
     "name": "stderr",
     "output_type": "stream",
     "text": [
      "/usr/local/lib/python3.6/site-packages/pandas/core/series.py:696: FutureWarning: \n",
      "Passing list-likes to .loc or [] with any missing label will raise\n",
      "KeyError in the future, you can use .reindex() as an alternative.\n",
      "\n",
      "See the documentation here:\n",
      "http://pandas.pydata.org/pandas-docs/stable/indexing.html#deprecate-loc-reindex-listlike\n",
      "  return self.loc[key]\n"
     ]
    },
    {
     "ename": "ValueError",
     "evalue": "y contains new labels: [nan nan nan ... nan nan nan]",
     "output_type": "error",
     "traceback": [
      "\u001b[0;31m---------------------------------------------------------------------------\u001b[0m",
      "\u001b[0;31mValueError\u001b[0m                                Traceback (most recent call last)",
      "\u001b[0;32m<ipython-input-55-c7feb0863e16>\u001b[0m in \u001b[0;36m<module>\u001b[0;34m()\u001b[0m\n\u001b[1;32m      5\u001b[0m \u001b[0;34m\u001b[0m\u001b[0m\n\u001b[1;32m      6\u001b[0m \u001b[0;32mfor\u001b[0m \u001b[0mtrain\u001b[0m\u001b[0;34m,\u001b[0m \u001b[0mval\u001b[0m \u001b[0;32min\u001b[0m \u001b[0mskf\u001b[0m\u001b[0;34m.\u001b[0m\u001b[0msplit\u001b[0m\u001b[0;34m(\u001b[0m\u001b[0mX_train\u001b[0m\u001b[0;34m,\u001b[0m \u001b[0my_train\u001b[0m\u001b[0;34m)\u001b[0m\u001b[0;34m:\u001b[0m\u001b[0;34m\u001b[0m\u001b[0m\n\u001b[0;32m----> 7\u001b[0;31m     \u001b[0mxgb_model\u001b[0m\u001b[0;34m.\u001b[0m\u001b[0mfit\u001b[0m\u001b[0;34m(\u001b[0m\u001b[0mX_train\u001b[0m\u001b[0;34m.\u001b[0m\u001b[0miloc\u001b[0m\u001b[0;34m[\u001b[0m\u001b[0mtrain\u001b[0m\u001b[0;34m]\u001b[0m\u001b[0;34m,\u001b[0m \u001b[0my_train\u001b[0m\u001b[0;34m[\u001b[0m\u001b[0mtrain\u001b[0m\u001b[0;34m]\u001b[0m\u001b[0;34m)\u001b[0m\u001b[0;34m\u001b[0m\u001b[0m\n\u001b[0m\u001b[1;32m      8\u001b[0m     \u001b[0mctb_model\u001b[0m\u001b[0;34m.\u001b[0m\u001b[0mfit\u001b[0m\u001b[0;34m(\u001b[0m\u001b[0mX_train\u001b[0m\u001b[0;34m.\u001b[0m\u001b[0miloc\u001b[0m\u001b[0;34m[\u001b[0m\u001b[0mtrain\u001b[0m\u001b[0;34m]\u001b[0m\u001b[0;34m,\u001b[0m \u001b[0my_train\u001b[0m\u001b[0;34m[\u001b[0m\u001b[0mtrain\u001b[0m\u001b[0;34m]\u001b[0m\u001b[0;34m)\u001b[0m\u001b[0;34m\u001b[0m\u001b[0m\n\u001b[1;32m      9\u001b[0m     \u001b[0mxgb_predictions\u001b[0m\u001b[0;34m.\u001b[0m\u001b[0mappend\u001b[0m\u001b[0;34m(\u001b[0m\u001b[0;34m[\u001b[0m\u001b[0my_train\u001b[0m\u001b[0;34m[\u001b[0m\u001b[0mval\u001b[0m\u001b[0;34m]\u001b[0m\u001b[0;34m,\u001b[0m \u001b[0mxgb_predictions\u001b[0m\u001b[0;34m.\u001b[0m\u001b[0mpredict_proba\u001b[0m\u001b[0;34m(\u001b[0m\u001b[0mX_train\u001b[0m\u001b[0;34m.\u001b[0m\u001b[0miloc\u001b[0m\u001b[0;34m[\u001b[0m\u001b[0mval\u001b[0m\u001b[0;34m]\u001b[0m\u001b[0;34m)\u001b[0m\u001b[0;34m[\u001b[0m\u001b[0;34m:\u001b[0m\u001b[0;34m,\u001b[0m\u001b[0;36m1\u001b[0m\u001b[0;34m]\u001b[0m\u001b[0;34m]\u001b[0m\u001b[0;34m)\u001b[0m\u001b[0;34m\u001b[0m\u001b[0m\n",
      "\u001b[0;32m/usr/local/lib/python3.6/site-packages/xgboost/sklearn.py\u001b[0m in \u001b[0;36mfit\u001b[0;34m(self, X, y, sample_weight, eval_set, eval_metric, early_stopping_rounds, verbose, xgb_model)\u001b[0m\n\u001b[1;32m    476\u001b[0m \u001b[0;34m\u001b[0m\u001b[0m\n\u001b[1;32m    477\u001b[0m         \u001b[0mself\u001b[0m\u001b[0;34m.\u001b[0m\u001b[0m_le\u001b[0m \u001b[0;34m=\u001b[0m \u001b[0mXGBLabelEncoder\u001b[0m\u001b[0;34m(\u001b[0m\u001b[0;34m)\u001b[0m\u001b[0;34m.\u001b[0m\u001b[0mfit\u001b[0m\u001b[0;34m(\u001b[0m\u001b[0my\u001b[0m\u001b[0;34m)\u001b[0m\u001b[0;34m\u001b[0m\u001b[0m\n\u001b[0;32m--> 478\u001b[0;31m         \u001b[0mtraining_labels\u001b[0m \u001b[0;34m=\u001b[0m \u001b[0mself\u001b[0m\u001b[0;34m.\u001b[0m\u001b[0m_le\u001b[0m\u001b[0;34m.\u001b[0m\u001b[0mtransform\u001b[0m\u001b[0;34m(\u001b[0m\u001b[0my\u001b[0m\u001b[0;34m)\u001b[0m\u001b[0;34m\u001b[0m\u001b[0m\n\u001b[0m\u001b[1;32m    479\u001b[0m \u001b[0;34m\u001b[0m\u001b[0m\n\u001b[1;32m    480\u001b[0m         \u001b[0;32mif\u001b[0m \u001b[0meval_set\u001b[0m \u001b[0;32mis\u001b[0m \u001b[0;32mnot\u001b[0m \u001b[0;32mNone\u001b[0m\u001b[0;34m:\u001b[0m\u001b[0;34m\u001b[0m\u001b[0m\n",
      "\u001b[0;32m/usr/local/lib/python3.6/site-packages/sklearn/preprocessing/label.py\u001b[0m in \u001b[0;36mtransform\u001b[0;34m(self, y)\u001b[0m\n\u001b[1;32m    131\u001b[0m         \u001b[0;32mif\u001b[0m \u001b[0mlen\u001b[0m\u001b[0;34m(\u001b[0m\u001b[0mnp\u001b[0m\u001b[0;34m.\u001b[0m\u001b[0mintersect1d\u001b[0m\u001b[0;34m(\u001b[0m\u001b[0mclasses\u001b[0m\u001b[0;34m,\u001b[0m \u001b[0mself\u001b[0m\u001b[0;34m.\u001b[0m\u001b[0mclasses_\u001b[0m\u001b[0;34m)\u001b[0m\u001b[0;34m)\u001b[0m \u001b[0;34m<\u001b[0m \u001b[0mlen\u001b[0m\u001b[0;34m(\u001b[0m\u001b[0mclasses\u001b[0m\u001b[0;34m)\u001b[0m\u001b[0;34m:\u001b[0m\u001b[0;34m\u001b[0m\u001b[0m\n\u001b[1;32m    132\u001b[0m             \u001b[0mdiff\u001b[0m \u001b[0;34m=\u001b[0m \u001b[0mnp\u001b[0m\u001b[0;34m.\u001b[0m\u001b[0msetdiff1d\u001b[0m\u001b[0;34m(\u001b[0m\u001b[0mclasses\u001b[0m\u001b[0;34m,\u001b[0m \u001b[0mself\u001b[0m\u001b[0;34m.\u001b[0m\u001b[0mclasses_\u001b[0m\u001b[0;34m)\u001b[0m\u001b[0;34m\u001b[0m\u001b[0m\n\u001b[0;32m--> 133\u001b[0;31m             \u001b[0;32mraise\u001b[0m \u001b[0mValueError\u001b[0m\u001b[0;34m(\u001b[0m\u001b[0;34m\"y contains new labels: %s\"\u001b[0m \u001b[0;34m%\u001b[0m \u001b[0mstr\u001b[0m\u001b[0;34m(\u001b[0m\u001b[0mdiff\u001b[0m\u001b[0;34m)\u001b[0m\u001b[0;34m)\u001b[0m\u001b[0;34m\u001b[0m\u001b[0m\n\u001b[0m\u001b[1;32m    134\u001b[0m         \u001b[0;32mreturn\u001b[0m \u001b[0mnp\u001b[0m\u001b[0;34m.\u001b[0m\u001b[0msearchsorted\u001b[0m\u001b[0;34m(\u001b[0m\u001b[0mself\u001b[0m\u001b[0;34m.\u001b[0m\u001b[0mclasses_\u001b[0m\u001b[0;34m,\u001b[0m \u001b[0my\u001b[0m\u001b[0;34m)\u001b[0m\u001b[0;34m\u001b[0m\u001b[0m\n\u001b[1;32m    135\u001b[0m \u001b[0;34m\u001b[0m\u001b[0m\n",
      "\u001b[0;31mValueError\u001b[0m: y contains new labels: [nan nan nan ... nan nan nan]"
     ]
    }
   ],
   "source": [
    "\n",
    "\n",
    "xgb_predictions = []\n",
    "ctb_predictions = []\n",
    "\n",
    "for train, val in skf.split(X_train, y_train):\n",
    "    xgb_model.fit(X_train.iloc[train], y_train[train])\n",
    "    ctb_model.fit(X_train.iloc[train], y_train[train])\n",
    "    xgb_predictions.append([y_train[val], xgb_predictions.predict_proba(X_train.iloc[val])[:,1]])\n",
    "    ctb_predictions.append([y_train[val], ctb_predictions.predict_proba(X_train.iloc[val])[:,1]])"
   ]
  },
  {
   "cell_type": "code",
   "execution_count": null,
   "metadata": {
    "collapsed": true
   },
   "outputs": [],
   "source": []
  }
 ],
 "metadata": {
  "kernelspec": {
   "display_name": "Python 3",
   "language": "python",
   "name": "python3"
  },
  "language_info": {
   "codemirror_mode": {
    "name": "ipython",
    "version": 3
   },
   "file_extension": ".py",
   "mimetype": "text/x-python",
   "name": "python",
   "nbconvert_exporter": "python",
   "pygments_lexer": "ipython3",
   "version": "3.6.4"
  }
 },
 "nbformat": 4,
 "nbformat_minor": 2
}
